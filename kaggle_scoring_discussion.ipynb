{
 "cells": [
  {
   "cell_type": "code",
   "execution_count": 1,
   "metadata": {},
   "outputs": [],
   "source": [
    "import numpy as np\n",
    "import matplotlib.pyplot as plt"
   ]
  },
  {
   "cell_type": "code",
   "execution_count": 2,
   "metadata": {},
   "outputs": [],
   "source": [
    "def circular_segment(nrows, ncols, centerx, centery, coverage):\n",
    "    img = np.full((nrows, ncols), 0)\n",
    "    area = img.size * coverage\n",
    "    radius = np.sqrt(area/ (2 * np.pi))\n",
    "    \n",
    "    for x in range(nrows):\n",
    "        for y in range(ncols):\n",
    "            distance = np.sqrt( (x-centerx)**2 + (y-centery)**2 )\n",
    "            if distance <= radius:\n",
    "                img[x, y] = 255\n",
    "    \n",
    "    return img"
   ]
  },
  {
   "cell_type": "code",
   "execution_count": 3,
   "metadata": {},
   "outputs": [
    {
     "data": {
      "image/png": "[encoded data removed]",
      "text/plain": [
       "<Figure size 720x720 with 4 Axes>"
      ]
     },
     "metadata": {},
     "output_type": "display_data"
    }
   ],
   "source": [
    "img1 = img = np.full((420, 580), 0)\n",
    "\n",
    "common2 = 0.57725\n",
    "difference2 = 1 - common2\n",
    "img2 = circular_segment(nrows = 420,\n",
    "                          ncols = 580,\n",
    "                          centerx = 200,\n",
    "                          centery = 300,\n",
    "                          coverage = difference2)\n",
    "\n",
    "common3 = 0.57725\n",
    "difference3 = 1 - common3\n",
    "img3 = circular_segment(nrows = 420,\n",
    "                          ncols = 580,\n",
    "                          centerx = 150,\n",
    "                          centery = 150,\n",
    "                          coverage = difference3/2)\n",
    "\n",
    "common4 = 0.57725\n",
    "difference4 = 1 - common4\n",
    "img4 = circular_segment(nrows = 420,\n",
    "                          ncols = 580,\n",
    "                          centerx = 275,\n",
    "                          centery = 425,\n",
    "                          coverage = difference4/2)\n",
    "\n",
    "fig, axes = plt.subplots(figsize=(10, 10), ncols=2, nrows=2)\n",
    "\n",
    "ax = axes.flatten()[0]\n",
    "ax.imshow(img1, cmap='gray')\n",
    "ax.set_title('No Segment', fontsize=14)\n",
    "\n",
    "ax = axes.flatten()[1]\n",
    "ax.imshow(img2, cmap='gray')\n",
    "ax.set_title('Circurlar Segment ({:.0%})'.format(difference2), fontsize=14)\n",
    "\n",
    "ax = axes.flatten()[2]\n",
    "ax.imshow(img3, cmap='gray')\n",
    "ax.set_title('Circurlar Segment ({:.0%})'.format(difference3/2), fontsize=14)\n",
    "\n",
    "ax = axes.flatten()[3]\n",
    "ax.imshow(img4, cmap='gray')\n",
    "ax.set_title('Circurlar Segment ({:.0%})'.format(difference4/2), fontsize=14)\n",
    "\n",
    "for ax in axes.flatten():\n",
    "    ax.set_xticks([])\n",
    "    ax.set_yticks([])\n",
    "plt.show()"
   ]
  },
  {
   "cell_type": "code",
   "execution_count": null,
   "metadata": {},
   "outputs": [],
   "source": []
  }
 ],
 "metadata": {
  "kernelspec": {
   "display_name": "Python 3",
   "language": "python",
   "name": "python3"
  },
  "language_info": {
   "codemirror_mode": {
    "name": "ipython",
    "version": 3
   },
   "file_extension": ".py",
   "mimetype": "text/x-python",
   "name": "python",
   "nbconvert_exporter": "python",
   "pygments_lexer": "ipython3",
   "version": "3.6.5"
  }
 },
 "nbformat": 4,
 "nbformat_minor": 2
}
